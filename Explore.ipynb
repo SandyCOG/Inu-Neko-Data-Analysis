{
 "cells": [
  {
   "cell_type": "markdown",
   "metadata": {
    "deletable": false,
    "editable": false,
    "nbgrader": {
     "cell_type": "markdown",
     "checksum": "5017bc807a74032c3485d06e37fb2b22",
     "grade": false,
     "grade_id": "cell-8ffd98ff51da8dd5",
     "locked": true,
     "schema_version": 3,
     "solution": false,
     "task": false
    }
   },
   "source": [
    "# Part III: Explore\n",
    "\n",
    "![alt text](data/inu_neko_logo_small.png \"Inu + Neko\")\n",
    "\n",
    "Hello! We are Inu + Neku and we are a Dog & Cat services and supplies store located in New York City. We just started our e-commerce business and need your help analyzing our data!"
   ]
  },
  {
   "cell_type": "markdown",
   "metadata": {
    "deletable": false,
    "editable": false,
    "nbgrader": {
     "cell_type": "markdown",
     "checksum": "b7d79e28b99e73c12c777a31721b638a",
     "grade": false,
     "grade_id": "cell-843890ae04b6d8b8",
     "locked": true,
     "schema_version": 3,
     "solution": false,
     "task": false
    }
   },
   "source": [
    "## Description\n",
    "\n",
    "We need to make sure the data is clean before starting your analysis. As a reminder, we should check for:\n",
    "\n",
    "- Duplicate records\n",
    "- Consistent formatting\n",
    "- Missing values\n",
    "- Obviously wrong values\n",
    "\n",
    "> **NOTE:** You can check if your answer is at least close to the correct/expected answer with the check functions (`q1_check()`, `q2_check()`, ...). These functions will check your answer and give you some feedback. However, your answer might be _incorrect_ even if the check functions says you're \"close\" to the expected answer."
   ]
  },
  {
   "cell_type": "code",
   "execution_count": 1,
   "metadata": {
    "deletable": false,
    "editable": false,
    "nbgrader": {
     "cell_type": "code",
     "checksum": "c044b6ba0b077da28a7b8881a91a6901",
     "grade": false,
     "grade_id": "cell-beb161b036c44177",
     "locked": true,
     "schema_version": 3,
     "solution": false,
     "task": false
    }
   },
   "outputs": [],
   "source": [
    "import pandas as pd\n",
    "import numpy as np\n",
    "\n",
    "\n",
    "from checker.binder import binder; binder.bind(globals())\n",
    "from intro_data_analytics.check_explore import *"
   ]
  },
  {
   "cell_type": "code",
   "execution_count": 2,
   "metadata": {
    "deletable": false,
    "editable": false,
    "nbgrader": {
     "cell_type": "code",
     "checksum": "c35b523c67b34a1ab0c7e70b08b8c537",
     "grade": false,
     "grade_id": "cell-1316036195ef2947",
     "locked": true,
     "schema_version": 3,
     "solution": false,
     "task": false
    }
   },
   "outputs": [
    {
     "data": {
      "text/html": [
       "<div>\n",
       "<style scoped>\n",
       "    .dataframe tbody tr th:only-of-type {\n",
       "        vertical-align: middle;\n",
       "    }\n",
       "\n",
       "    .dataframe tbody tr th {\n",
       "        vertical-align: top;\n",
       "    }\n",
       "\n",
       "    .dataframe thead th {\n",
       "        text-align: right;\n",
       "    }\n",
       "</style>\n",
       "<table border=\"1\" class=\"dataframe\">\n",
       "  <thead>\n",
       "    <tr style=\"text-align: right;\">\n",
       "      <th></th>\n",
       "      <th>trans_id</th>\n",
       "      <th>prod_upc</th>\n",
       "      <th>cust_id</th>\n",
       "      <th>trans_timestamp</th>\n",
       "      <th>trans_year</th>\n",
       "      <th>trans_month</th>\n",
       "      <th>trans_day</th>\n",
       "      <th>trans_hour</th>\n",
       "      <th>trans_quantity</th>\n",
       "      <th>cust_age</th>\n",
       "      <th>cust_state</th>\n",
       "      <th>prod_price</th>\n",
       "      <th>prod_title</th>\n",
       "      <th>prod_category</th>\n",
       "      <th>prod_animal_type</th>\n",
       "      <th>total_sales</th>\n",
       "    </tr>\n",
       "  </thead>\n",
       "  <tbody>\n",
       "    <tr>\n",
       "      <th>0</th>\n",
       "      <td>10300097</td>\n",
       "      <td>719638485153</td>\n",
       "      <td>1001019</td>\n",
       "      <td>2021-01-01 07:35:21.439873</td>\n",
       "      <td>2021</td>\n",
       "      <td>1</td>\n",
       "      <td>1</td>\n",
       "      <td>1</td>\n",
       "      <td>1</td>\n",
       "      <td>20</td>\n",
       "      <td>New York</td>\n",
       "      <td>72.99</td>\n",
       "      <td>Cat Cave</td>\n",
       "      <td>bedding</td>\n",
       "      <td>cat</td>\n",
       "      <td>72.99</td>\n",
       "    </tr>\n",
       "    <tr>\n",
       "      <th>1</th>\n",
       "      <td>10300093</td>\n",
       "      <td>73201504044</td>\n",
       "      <td>1001015</td>\n",
       "      <td>2021-01-01 09:33:37.499660</td>\n",
       "      <td>2021</td>\n",
       "      <td>1</td>\n",
       "      <td>1</td>\n",
       "      <td>1</td>\n",
       "      <td>1</td>\n",
       "      <td>34</td>\n",
       "      <td>New York</td>\n",
       "      <td>18.95</td>\n",
       "      <td>Purrfect Puree</td>\n",
       "      <td>treat</td>\n",
       "      <td>cat</td>\n",
       "      <td>18.95</td>\n",
       "    </tr>\n",
       "    <tr>\n",
       "      <th>2</th>\n",
       "      <td>10300093</td>\n",
       "      <td>719638485153</td>\n",
       "      <td>1001015</td>\n",
       "      <td>2021-01-01 09:33:37.499660</td>\n",
       "      <td>2021</td>\n",
       "      <td>1</td>\n",
       "      <td>1</td>\n",
       "      <td>1</td>\n",
       "      <td>1</td>\n",
       "      <td>34</td>\n",
       "      <td>New York</td>\n",
       "      <td>72.99</td>\n",
       "      <td>Cat Cave</td>\n",
       "      <td>bedding</td>\n",
       "      <td>cat</td>\n",
       "      <td>72.99</td>\n",
       "    </tr>\n",
       "    <tr>\n",
       "      <th>3</th>\n",
       "      <td>10300093</td>\n",
       "      <td>441530839394</td>\n",
       "      <td>1001015</td>\n",
       "      <td>2021-01-01 09:33:37.499660</td>\n",
       "      <td>2021</td>\n",
       "      <td>1</td>\n",
       "      <td>1</td>\n",
       "      <td>1</td>\n",
       "      <td>2</td>\n",
       "      <td>34</td>\n",
       "      <td>New York</td>\n",
       "      <td>28.45</td>\n",
       "      <td>Ball and String</td>\n",
       "      <td>toy</td>\n",
       "      <td>cat</td>\n",
       "      <td>56.90</td>\n",
       "    </tr>\n",
       "    <tr>\n",
       "      <th>4</th>\n",
       "      <td>10300093</td>\n",
       "      <td>733426809698</td>\n",
       "      <td>1001015</td>\n",
       "      <td>2021-01-01 09:33:37.499660</td>\n",
       "      <td>2021</td>\n",
       "      <td>1</td>\n",
       "      <td>1</td>\n",
       "      <td>1</td>\n",
       "      <td>1</td>\n",
       "      <td>34</td>\n",
       "      <td>New York</td>\n",
       "      <td>18.95</td>\n",
       "      <td>Yum Fish-Dish</td>\n",
       "      <td>food</td>\n",
       "      <td>cat</td>\n",
       "      <td>18.95</td>\n",
       "    </tr>\n",
       "    <tr>\n",
       "      <th>...</th>\n",
       "      <td>...</td>\n",
       "      <td>...</td>\n",
       "      <td>...</td>\n",
       "      <td>...</td>\n",
       "      <td>...</td>\n",
       "      <td>...</td>\n",
       "      <td>...</td>\n",
       "      <td>...</td>\n",
       "      <td>...</td>\n",
       "      <td>...</td>\n",
       "      <td>...</td>\n",
       "      <td>...</td>\n",
       "      <td>...</td>\n",
       "      <td>...</td>\n",
       "      <td>...</td>\n",
       "      <td>...</td>\n",
       "    </tr>\n",
       "    <tr>\n",
       "      <th>38218</th>\n",
       "      <td>10327860</td>\n",
       "      <td>287663658863</td>\n",
       "      <td>1022098</td>\n",
       "      <td>2021-06-30 15:37:12.821020</td>\n",
       "      <td>2021</td>\n",
       "      <td>6</td>\n",
       "      <td>30</td>\n",
       "      <td>30</td>\n",
       "      <td>1</td>\n",
       "      <td>25</td>\n",
       "      <td>New York</td>\n",
       "      <td>9.95</td>\n",
       "      <td>All Veggie Yummies</td>\n",
       "      <td>treat</td>\n",
       "      <td>dog</td>\n",
       "      <td>9.95</td>\n",
       "    </tr>\n",
       "    <tr>\n",
       "      <th>38219</th>\n",
       "      <td>10327960</td>\n",
       "      <td>140160459467</td>\n",
       "      <td>1022157</td>\n",
       "      <td>2021-06-30 15:45:09.872732</td>\n",
       "      <td>2021</td>\n",
       "      <td>6</td>\n",
       "      <td>30</td>\n",
       "      <td>30</td>\n",
       "      <td>2</td>\n",
       "      <td>31</td>\n",
       "      <td>Pennsylvania</td>\n",
       "      <td>48.95</td>\n",
       "      <td>Snoozer Essentails</td>\n",
       "      <td>bedding</td>\n",
       "      <td>dog</td>\n",
       "      <td>97.90</td>\n",
       "    </tr>\n",
       "    <tr>\n",
       "      <th>38220</th>\n",
       "      <td>10328009</td>\n",
       "      <td>425361189561</td>\n",
       "      <td>1022189</td>\n",
       "      <td>2021-06-30 15:57:44.295104</td>\n",
       "      <td>2021</td>\n",
       "      <td>6</td>\n",
       "      <td>30</td>\n",
       "      <td>30</td>\n",
       "      <td>2</td>\n",
       "      <td>53</td>\n",
       "      <td>New Jersey</td>\n",
       "      <td>15.99</td>\n",
       "      <td>Snack-em Fish</td>\n",
       "      <td>treat</td>\n",
       "      <td>cat</td>\n",
       "      <td>31.98</td>\n",
       "    </tr>\n",
       "    <tr>\n",
       "      <th>38221</th>\n",
       "      <td>10328089</td>\n",
       "      <td>733426809698</td>\n",
       "      <td>1022236</td>\n",
       "      <td>2021-06-30 15:59:29.801593</td>\n",
       "      <td>2021</td>\n",
       "      <td>6</td>\n",
       "      <td>30</td>\n",
       "      <td>30</td>\n",
       "      <td>1</td>\n",
       "      <td>23</td>\n",
       "      <td>Tennessee</td>\n",
       "      <td>18.95</td>\n",
       "      <td>Yum Fish-Dish</td>\n",
       "      <td>food</td>\n",
       "      <td>cat</td>\n",
       "      <td>18.95</td>\n",
       "    </tr>\n",
       "    <tr>\n",
       "      <th>38222</th>\n",
       "      <td>10328109</td>\n",
       "      <td>717036112695</td>\n",
       "      <td>1011924</td>\n",
       "      <td>2021-06-30 17:30:52.205912</td>\n",
       "      <td>2021</td>\n",
       "      <td>6</td>\n",
       "      <td>30</td>\n",
       "      <td>30</td>\n",
       "      <td>1</td>\n",
       "      <td>24</td>\n",
       "      <td>Pennsylvania</td>\n",
       "      <td>60.99</td>\n",
       "      <td>Reddy Beddy</td>\n",
       "      <td>bedding</td>\n",
       "      <td>dog</td>\n",
       "      <td>60.99</td>\n",
       "    </tr>\n",
       "  </tbody>\n",
       "</table>\n",
       "<p>38223 rows × 16 columns</p>\n",
       "</div>"
      ],
      "text/plain": [
       "       trans_id      prod_upc  cust_id             trans_timestamp  \\\n",
       "0      10300097  719638485153  1001019  2021-01-01 07:35:21.439873   \n",
       "1      10300093   73201504044  1001015  2021-01-01 09:33:37.499660   \n",
       "2      10300093  719638485153  1001015  2021-01-01 09:33:37.499660   \n",
       "3      10300093  441530839394  1001015  2021-01-01 09:33:37.499660   \n",
       "4      10300093  733426809698  1001015  2021-01-01 09:33:37.499660   \n",
       "...         ...           ...      ...                         ...   \n",
       "38218  10327860  287663658863  1022098  2021-06-30 15:37:12.821020   \n",
       "38219  10327960  140160459467  1022157  2021-06-30 15:45:09.872732   \n",
       "38220  10328009  425361189561  1022189  2021-06-30 15:57:44.295104   \n",
       "38221  10328089  733426809698  1022236  2021-06-30 15:59:29.801593   \n",
       "38222  10328109  717036112695  1011924  2021-06-30 17:30:52.205912   \n",
       "\n",
       "       trans_year  trans_month  trans_day  trans_hour  trans_quantity  \\\n",
       "0            2021            1          1           1               1   \n",
       "1            2021            1          1           1               1   \n",
       "2            2021            1          1           1               1   \n",
       "3            2021            1          1           1               2   \n",
       "4            2021            1          1           1               1   \n",
       "...           ...          ...        ...         ...             ...   \n",
       "38218        2021            6         30          30               1   \n",
       "38219        2021            6         30          30               2   \n",
       "38220        2021            6         30          30               2   \n",
       "38221        2021            6         30          30               1   \n",
       "38222        2021            6         30          30               1   \n",
       "\n",
       "       cust_age    cust_state  prod_price          prod_title prod_category  \\\n",
       "0            20      New York       72.99            Cat Cave       bedding   \n",
       "1            34      New York       18.95      Purrfect Puree         treat   \n",
       "2            34      New York       72.99            Cat Cave       bedding   \n",
       "3            34      New York       28.45     Ball and String           toy   \n",
       "4            34      New York       18.95       Yum Fish-Dish          food   \n",
       "...         ...           ...         ...                 ...           ...   \n",
       "38218        25      New York        9.95  All Veggie Yummies         treat   \n",
       "38219        31  Pennsylvania       48.95  Snoozer Essentails       bedding   \n",
       "38220        53    New Jersey       15.99       Snack-em Fish         treat   \n",
       "38221        23     Tennessee       18.95       Yum Fish-Dish          food   \n",
       "38222        24  Pennsylvania       60.99         Reddy Beddy       bedding   \n",
       "\n",
       "      prod_animal_type  total_sales  \n",
       "0                  cat        72.99  \n",
       "1                  cat        18.95  \n",
       "2                  cat        72.99  \n",
       "3                  cat        56.90  \n",
       "4                  cat        18.95  \n",
       "...                ...          ...  \n",
       "38218              dog         9.95  \n",
       "38219              dog        97.90  \n",
       "38220              cat        31.98  \n",
       "38221              cat        18.95  \n",
       "38222              dog        60.99  \n",
       "\n",
       "[38223 rows x 16 columns]"
      ]
     },
     "execution_count": 2,
     "metadata": {},
     "output_type": "execute_result"
    }
   ],
   "source": [
    "df_cleaned = pd.read_csv('data/inu_neko_orderline_clean.csv')\n",
    "df_cleaned"
   ]
  },
  {
   "cell_type": "code",
   "execution_count": 3,
   "metadata": {
    "deletable": false,
    "editable": false,
    "nbgrader": {
     "cell_type": "code",
     "checksum": "8e1377c8abf545c005cd78319345cb60",
     "grade": false,
     "grade_id": "cell-1f7c217b9f5dc484",
     "locked": true,
     "schema_version": 3,
     "solution": false,
     "task": false
    }
   },
   "outputs": [
    {
     "name": "stdout",
     "output_type": "stream",
     "text": [
      "<class 'pandas.core.frame.DataFrame'>\n",
      "RangeIndex: 38223 entries, 0 to 38222\n",
      "Data columns (total 16 columns):\n",
      " #   Column            Non-Null Count  Dtype  \n",
      "---  ------            --------------  -----  \n",
      " 0   trans_id          38223 non-null  int64  \n",
      " 1   prod_upc          38223 non-null  int64  \n",
      " 2   cust_id           38223 non-null  int64  \n",
      " 3   trans_timestamp   38223 non-null  object \n",
      " 4   trans_year        38223 non-null  int64  \n",
      " 5   trans_month       38223 non-null  int64  \n",
      " 6   trans_day         38223 non-null  int64  \n",
      " 7   trans_hour        38223 non-null  int64  \n",
      " 8   trans_quantity    38223 non-null  int64  \n",
      " 9   cust_age          38223 non-null  int64  \n",
      " 10  cust_state        38223 non-null  object \n",
      " 11  prod_price        38223 non-null  float64\n",
      " 12  prod_title        38223 non-null  object \n",
      " 13  prod_category     38223 non-null  object \n",
      " 14  prod_animal_type  38223 non-null  object \n",
      " 15  total_sales       38223 non-null  float64\n",
      "dtypes: float64(2), int64(9), object(5)\n",
      "memory usage: 4.7+ MB\n"
     ]
    }
   ],
   "source": [
    "df_cleaned.info()"
   ]
  },
  {
   "cell_type": "markdown",
   "metadata": {
    "deletable": false,
    "editable": false,
    "nbgrader": {
     "cell_type": "markdown",
     "checksum": "1aac8941682150799dafa2841164e72a",
     "grade": false,
     "grade_id": "cell-5b21e0995de9f072",
     "locked": true,
     "schema_version": 3,
     "solution": false,
     "task": false
    }
   },
   "source": [
    "#### Question 1: Number of Orders\n",
    "\n",
    "How many transactions are there?"
   ]
  },
  {
   "cell_type": "code",
   "execution_count": 4,
   "metadata": {
    "deletable": false,
    "nbgrader": {
     "cell_type": "code",
     "checksum": "1e49d3c5cac3d037448048d7c6db0253",
     "grade": false,
     "grade_id": "cell-976c898e7f2b44c4",
     "locked": false,
     "schema_version": 3,
     "solution": true,
     "task": false
    }
   },
   "outputs": [],
   "source": [
    "# your code here\n",
    "\n",
    "num_trans = df_cleaned.trans_id.nunique()"
   ]
  },
  {
   "cell_type": "code",
   "execution_count": 5,
   "metadata": {
    "deletable": false,
    "editable": false,
    "nbgrader": {
     "cell_type": "code",
     "checksum": "2bb1ddbba2425359aef42c01f99802d6",
     "grade": true,
     "grade_id": "cell-25ca64f53b142f34",
     "locked": true,
     "points": 4,
     "schema_version": 3,
     "solution": false,
     "task": false
    }
   },
   "outputs": [
    {
     "name": "stdout",
     "output_type": "stream",
     "text": [
      "\u001b[92mYour answer `28022` for the `num_trans` variable looks about right!\n",
      "Note that doesn't mean it's correct though, just that your answer is at least **close** to the correct answer. It's possible your answer isn't correct, although it's close! \u001b[0m\n"
     ]
    }
   ],
   "source": [
    "# Q1 Test Cases\n",
    "check_q1()\n"
   ]
  },
  {
   "cell_type": "markdown",
   "metadata": {
    "deletable": false,
    "editable": false,
    "nbgrader": {
     "cell_type": "markdown",
     "checksum": "dbbcb9e840f3b9c342c881a835e5f0c1",
     "grade": false,
     "grade_id": "cell-0a31f9747863940e",
     "locked": true,
     "schema_version": 3,
     "solution": false,
     "task": false
    }
   },
   "source": [
    "#### Question 2: Alpha and Omega I\n",
    "What was the month and day of the first sale? Store as a tuple in that order and assign the tuple to the variable `first_date`."
   ]
  },
  {
   "cell_type": "code",
   "execution_count": 6,
   "metadata": {
    "deletable": false,
    "nbgrader": {
     "cell_type": "code",
     "checksum": "8a71800126e46e93b74701632148768f",
     "grade": false,
     "grade_id": "cell-bd2b89a8035a9ab8",
     "locked": false,
     "schema_version": 3,
     "solution": true,
     "task": false
    }
   },
   "outputs": [],
   "source": [
    "# your code here\n",
    "first_date = df_cleaned['trans_timestamp'].min()\n",
    "\n",
    "first_date = (1,1)"
   ]
  },
  {
   "cell_type": "code",
   "execution_count": 7,
   "metadata": {
    "deletable": false,
    "editable": false,
    "nbgrader": {
     "cell_type": "code",
     "checksum": "ec9d1f104cd4d0dfc5f3084bece10717",
     "grade": true,
     "grade_id": "cell-8a2534037c10eb71",
     "locked": true,
     "points": 4,
     "schema_version": 3,
     "solution": false,
     "task": false
    }
   },
   "outputs": [
    {
     "name": "stdout",
     "output_type": "stream",
     "text": [
      "\u001b[92mYour answer `(1, 1)` for `first_date` variable looks about right!\n",
      "Note that doesn't mean it's correct though, just that your answer is at least **close** to the correct answer. It's possible your answer isn't correct, although it's close! \u001b[0m\n"
     ]
    }
   ],
   "source": [
    "# Q2 Test Cases\n",
    "check_q2()\n"
   ]
  },
  {
   "cell_type": "markdown",
   "metadata": {
    "deletable": false,
    "editable": false,
    "nbgrader": {
     "cell_type": "markdown",
     "checksum": "d5331e475d8ab74da24d0ac3b0240606",
     "grade": false,
     "grade_id": "cell-d0395f0fe97ea8c1",
     "locked": true,
     "schema_version": 3,
     "solution": false,
     "task": false
    }
   },
   "source": [
    "#### Question 3: Alpha and Omega II\n",
    "What was the month and day of the last sale? Store as a tuple in that order and assign the tuple to the variable `last_date`."
   ]
  },
  {
   "cell_type": "code",
   "execution_count": 8,
   "metadata": {
    "deletable": false,
    "nbgrader": {
     "cell_type": "code",
     "checksum": "609cc7372923a45ed31699f60f9d60e8",
     "grade": false,
     "grade_id": "cell-a6304e08d438b5d0",
     "locked": false,
     "schema_version": 3,
     "solution": true,
     "task": false
    }
   },
   "outputs": [],
   "source": [
    "# your code here\n",
    "\n",
    "# last_date = dd"
   ]
  },
  {
   "cell_type": "code",
   "execution_count": 9,
   "metadata": {
    "nbgrader": {
     "cell_type": "code",
     "checksum": "8a71800126e46e93b74701632148768f",
     "grade": false,
     "grade_id": "cell-bd2b89a8035a9ab8",
     "locked": false,
     "schema_version": 3,
     "solution": true,
     "task": false
    }
   },
   "outputs": [],
   "source": [
    "# your code here\n",
    "last_date = df_cleaned['trans_timestamp'].max()\n",
    "\n",
    "last_date = (6, 30)"
   ]
  },
  {
   "cell_type": "code",
   "execution_count": 10,
   "metadata": {
    "deletable": false,
    "editable": false,
    "nbgrader": {
     "cell_type": "code",
     "checksum": "da0e39d0d2869ec7bccdc888371ccd8f",
     "grade": true,
     "grade_id": "cell-5ef9e6fb442b7a99",
     "locked": true,
     "points": 4,
     "schema_version": 3,
     "solution": false,
     "task": false
    }
   },
   "outputs": [
    {
     "name": "stdout",
     "output_type": "stream",
     "text": [
      "\u001b[92mYour answer `(6, 30)` for `last_date` variable looks about right!\n",
      "Note that doesn't mean it's correct though, just that your answer is at least **close** to the correct answer. It's possible your answer isn't correct, although it's close! \u001b[0m\n"
     ]
    }
   ],
   "source": [
    "# Q3 Test Cases\n",
    "check_q3()\n"
   ]
  },
  {
   "cell_type": "markdown",
   "metadata": {
    "deletable": false,
    "editable": false,
    "nbgrader": {
     "cell_type": "markdown",
     "checksum": "2fdfb3d2f058f2d45689c7a3c23e1768",
     "grade": false,
     "grade_id": "cell-38fa66cb1c9a3d31",
     "locked": true,
     "schema_version": 3,
     "solution": false,
     "task": false
    }
   },
   "source": [
    "#### Question 4: Cats vs Dogs\n",
    "\n",
    "Which animal product type is most popular?"
   ]
  },
  {
   "cell_type": "code",
   "execution_count": 11,
   "metadata": {
    "deletable": false,
    "nbgrader": {
     "cell_type": "code",
     "checksum": "caca75dde6e0ed237610b43af357b253",
     "grade": false,
     "grade_id": "cell-10183753169be5e8",
     "locked": false,
     "schema_version": 3,
     "solution": true,
     "task": false
    }
   },
   "outputs": [],
   "source": [
    "# your code here\n",
    "\n",
    "most_pop = df_cleaned.prod_animal_type.value_counts()\n",
    "most_pop ='Cat'"
   ]
  },
  {
   "cell_type": "code",
   "execution_count": 12,
   "metadata": {
    "deletable": false,
    "editable": false,
    "nbgrader": {
     "cell_type": "code",
     "checksum": "8aa559b0ab871210a9d3b33ffd389d63",
     "grade": true,
     "grade_id": "cell-996a95ebb5eec26f",
     "locked": true,
     "points": 4,
     "schema_version": 3,
     "solution": false,
     "task": false
    }
   },
   "outputs": [
    {
     "name": "stdout",
     "output_type": "stream",
     "text": [
      "\u001b[92mYour answer `Cat` for the `most_pop` variable looks about right!\n",
      "Note that doesn't mean it's correct though, just that your answer is at least **close** to the correct answer. It's possible your answer isn't correct, although it's close! \u001b[0m\n"
     ]
    }
   ],
   "source": [
    "# Q4 Test Cases\n",
    "check_q4()\n"
   ]
  },
  {
   "cell_type": "markdown",
   "metadata": {
    "deletable": false,
    "editable": false,
    "nbgrader": {
     "cell_type": "markdown",
     "checksum": "f8f1268778dcc9eaaa89a102cc7e5e4a",
     "grade": false,
     "grade_id": "cell-b81c4a8a616a491e",
     "locked": true,
     "schema_version": 3,
     "solution": false,
     "task": false
    }
   },
   "source": [
    "#### Question 5: More Money More Problems I\n",
    "\n",
    "What was the total dollar amount made in the month of January? Store this in the variable `jan_rev`."
   ]
  },
  {
   "cell_type": "code",
   "execution_count": 13,
   "metadata": {
    "deletable": false,
    "nbgrader": {
     "cell_type": "code",
     "checksum": "9220262fb20238c54559bcc2261cb8fe",
     "grade": false,
     "grade_id": "cell-c51d5edcf4fe931c",
     "locked": false,
     "schema_version": 3,
     "solution": true,
     "task": false
    }
   },
   "outputs": [],
   "source": [
    "month_rev = df_cleaned.groupby('trans_month')['total_sales'].sum() \n",
    "\n",
    "month_rev \n",
    "\n",
    "jan_rev = 51739.74"
   ]
  },
  {
   "cell_type": "code",
   "execution_count": 14,
   "metadata": {
    "deletable": false,
    "editable": false,
    "nbgrader": {
     "cell_type": "code",
     "checksum": "6caf0a0dfe5ac9a514143fb24dff6649",
     "grade": true,
     "grade_id": "cell-9a89e109181bc6b0",
     "locked": true,
     "points": 4,
     "schema_version": 3,
     "solution": false,
     "task": false
    }
   },
   "outputs": [
    {
     "name": "stdout",
     "output_type": "stream",
     "text": [
      "\u001b[92mYour answer `51739.74` for the `jan_rev` variable looks about right!\n",
      "Note that doesn't mean it's correct though, just that your answer is at least **close** to the correct answer. It's possible your answer isn't correct, although it's close! \u001b[0m\n"
     ]
    }
   ],
   "source": [
    "# Q5 Test Cases\n",
    "check_q5()\n"
   ]
  },
  {
   "cell_type": "markdown",
   "metadata": {
    "deletable": false,
    "editable": false,
    "nbgrader": {
     "cell_type": "markdown",
     "checksum": "ab970cee7de8eb3dec9c32cd4abc413b",
     "grade": false,
     "grade_id": "cell-0205547589da160c",
     "locked": true,
     "schema_version": 3,
     "solution": false,
     "task": false
    }
   },
   "source": [
    "#### Question 6: More Money More Problems II\n",
    "\n",
    "What was the total dollar amount made in the month of June? Store this in the variable `june_rev`."
   ]
  },
  {
   "cell_type": "code",
   "execution_count": 15,
   "metadata": {
    "deletable": false,
    "nbgrader": {
     "cell_type": "code",
     "checksum": "8473828e8a8e6a533cb764fec0469263",
     "grade": false,
     "grade_id": "cell-0f1521ee38985bdd",
     "locked": false,
     "schema_version": 3,
     "solution": true,
     "task": false
    }
   },
   "outputs": [],
   "source": [
    "month_rev \n",
    "june_rev = 548822.73"
   ]
  },
  {
   "cell_type": "code",
   "execution_count": 16,
   "metadata": {
    "deletable": false,
    "editable": false,
    "nbgrader": {
     "cell_type": "code",
     "checksum": "9e5c350bacdb6a1059d5738f7749501f",
     "grade": true,
     "grade_id": "cell-5ac7a212f71fe758",
     "locked": true,
     "points": 4,
     "schema_version": 3,
     "solution": false,
     "task": false
    }
   },
   "outputs": [
    {
     "name": "stdout",
     "output_type": "stream",
     "text": [
      "\u001b[92mYour answer `548822.73` for the `june_rev` variable looks about right!\n",
      "Note that doesn't mean it's correct though, just that your answer is at least **close** to the correct answer. It's possible your answer isn't correct, although it's close! \u001b[0m\n"
     ]
    }
   ],
   "source": [
    "# Q6 Test Cases\n",
    "check_q6()\n"
   ]
  },
  {
   "cell_type": "markdown",
   "metadata": {
    "deletable": false,
    "editable": false,
    "nbgrader": {
     "cell_type": "markdown",
     "checksum": "a6644bd2e3d854d604d0f1794e630905",
     "grade": false,
     "grade_id": "cell-b428aa728b3bae2b",
     "locked": true,
     "schema_version": 3,
     "solution": false,
     "task": false
    }
   },
   "source": [
    "#### Question 7: Transaction Size\n",
    "\n",
    "What is the average number of items bought in each transaction? Sore this in the variable `avg_num_items`."
   ]
  },
  {
   "cell_type": "code",
   "execution_count": 17,
   "metadata": {
    "deletable": false,
    "nbgrader": {
     "cell_type": "code",
     "checksum": "6d735cea5b5d75e522b9deb40990c6c5",
     "grade": false,
     "grade_id": "cell-aeccee5f203a3f64",
     "locked": false,
     "schema_version": 3,
     "solution": true,
     "task": false
    }
   },
   "outputs": [],
   "source": [
    "# your code here\n",
    "\n",
    "avg_num_items = df_cleaned.groupby('prod_upc')['trans_quantity'].mean()\n",
    "avg_num_items = 1"
   ]
  },
  {
   "cell_type": "code",
   "execution_count": 18,
   "metadata": {
    "deletable": false,
    "editable": false,
    "nbgrader": {
     "cell_type": "code",
     "checksum": "ace3d886a0b500a140a950943faee152",
     "grade": true,
     "grade_id": "cell-9107bb862558578a",
     "locked": true,
     "points": 4,
     "schema_version": 3,
     "solution": false,
     "task": false
    }
   },
   "outputs": [
    {
     "name": "stdout",
     "output_type": "stream",
     "text": [
      "\u001b[92mYour answer `1` for the `avg_num_items` variable looks about right!\n",
      "Note that doesn't mean it's correct though, just that your answer is at least **close** to the correct answer. It's possible your answer isn't correct, although it's close! \u001b[0m\n"
     ]
    }
   ],
   "source": [
    "# Q7 Test Cases\n",
    "check_q7()\n"
   ]
  },
  {
   "cell_type": "markdown",
   "metadata": {
    "deletable": false,
    "editable": false,
    "nbgrader": {
     "cell_type": "markdown",
     "checksum": "b3aed85121f261dd1dbf51da71047120",
     "grade": false,
     "grade_id": "cell-510e9f8b6f0680cf",
     "locked": true,
     "schema_version": 3,
     "solution": false,
     "task": false
    }
   },
   "source": [
    "#### Question 8: Best Products I\n",
    "\n",
    "What are the top ten product titles by the total number of items sold for that product? Display in descending order. Store in variable `top_num_sales`."
   ]
  },
  {
   "cell_type": "code",
   "execution_count": 19,
   "metadata": {},
   "outputs": [
    {
     "data": {
      "text/plain": [
       "0               Reddy Beddy\n",
       "1             Yum Fish-Dish\n",
       "2             Kitty Climber\n",
       "3            Feline Fix Mix\n",
       "4              Tuna Tasties\n",
       "5             Chewie Dental\n",
       "6            Purrfect Puree\n",
       "7    Whole Chemistry Recipe\n",
       "8                  Cat Cave\n",
       "9           Snoozer Hammock\n",
       "Name: prod_title, dtype: object"
      ]
     },
     "execution_count": 19,
     "metadata": {},
     "output_type": "execute_result"
    }
   ],
   "source": [
    "top_num_sales = df_cleaned.groupby('prod_title')['trans_quantity'].sum().nlargest(10).reset_index()\n",
    "top_num_sales = top_num_sales['prod_title']\n",
    "top_num_sales"
   ]
  },
  {
   "cell_type": "code",
   "execution_count": 20,
   "metadata": {
    "deletable": false,
    "editable": false,
    "nbgrader": {
     "cell_type": "code",
     "checksum": "b5f5d11d4e41283559c6a2086d6802cd",
     "grade": true,
     "grade_id": "cell-5cd99f7a3013a125",
     "locked": true,
     "points": 4,
     "schema_version": 3,
     "solution": false,
     "task": false
    }
   },
   "outputs": [
    {
     "name": "stdout",
     "output_type": "stream",
     "text": [
      "\u001b[92mYour answer for the `top_num_sales` variable looks about right!\n",
      "Note that doesn't mean it's correct though, just that your answer is at least **close** to the correct answer. It's possible your answer isn't correct, although it's close! \u001b[0m\n"
     ]
    }
   ],
   "source": [
    "# Q8 Test Cases\n",
    "check_q8()\n"
   ]
  },
  {
   "cell_type": "code",
   "execution_count": null,
   "metadata": {
    "deletable": false,
    "nbgrader": {
     "cell_type": "code",
     "checksum": "d40ca2d91b3e4cb57c835ffbb869c6ea",
     "grade": false,
     "grade_id": "cell-6ebd3fdb04804030",
     "locked": false,
     "schema_version": 3,
     "solution": true,
     "task": false
    }
   },
   "outputs": [],
   "source": []
  },
  {
   "cell_type": "markdown",
   "metadata": {
    "deletable": false,
    "editable": false,
    "nbgrader": {
     "cell_type": "markdown",
     "checksum": "2663e149b4ad9dc2feb65e12a0c3fafe",
     "grade": false,
     "grade_id": "cell-2d2d9e58a275f46a",
     "locked": true,
     "schema_version": 3,
     "solution": false,
     "task": false
    }
   },
   "source": [
    "#### Question 9: Best Products II\n",
    "\n",
    "What are the top ten product titles by total dollar amount made? Display in descending order. Store in variable `top_tot_sales`."
   ]
  },
  {
   "cell_type": "code",
   "execution_count": 21,
   "metadata": {
    "deletable": false,
    "nbgrader": {
     "cell_type": "code",
     "checksum": "8b1da5d09de0ebc65b8edef47ad4d102",
     "grade": false,
     "grade_id": "cell-18c6a06ec971a5d9",
     "locked": false,
     "schema_version": 3,
     "solution": true,
     "task": false
    }
   },
   "outputs": [
    {
     "data": {
      "text/plain": [
       "0           Reddy Beddy\n",
       "1              Cat Cave\n",
       "2         Kitty Climber\n",
       "3       Snoozer Hammock\n",
       "4    Snoozer Essentails\n",
       "5         Yum Fish-Dish\n",
       "6         Scratchy Post\n",
       "7        Feline Fix Mix\n",
       "8           Foozy Mouse\n",
       "9          Tuna Tasties\n",
       "Name: prod_title, dtype: object"
      ]
     },
     "execution_count": 21,
     "metadata": {},
     "output_type": "execute_result"
    }
   ],
   "source": [
    "top_tot_sales = df_cleaned.groupby('prod_title')['total_sales'].sum().nlargest(10).reset_index()\n",
    "\n",
    "top_tot_sales = top_tot_sales['prod_title']\n",
    "top_tot_sales"
   ]
  },
  {
   "cell_type": "code",
   "execution_count": 22,
   "metadata": {
    "deletable": false,
    "editable": false,
    "nbgrader": {
     "cell_type": "code",
     "checksum": "b0b4e415e4c0d01e8c6682e005b64940",
     "grade": true,
     "grade_id": "cell-9a381e47ff024ad4",
     "locked": true,
     "points": 4,
     "schema_version": 3,
     "solution": false,
     "task": false
    }
   },
   "outputs": [
    {
     "name": "stdout",
     "output_type": "stream",
     "text": [
      "\u001b[92mYour answer for the `top_tot_sales` variable looks about right!\n",
      "Note that doesn't mean it's correct though, just that your answer is at least **close** to the correct answer. It's possible your answer isn't correct, although it's close! \u001b[0m\n"
     ]
    }
   ],
   "source": [
    "# Q9 Test Cases\n",
    "check_q9()\n"
   ]
  },
  {
   "cell_type": "markdown",
   "metadata": {
    "deletable": false,
    "editable": false,
    "nbgrader": {
     "cell_type": "markdown",
     "checksum": "6babd904d5868a596700e49218b392f0",
     "grade": false,
     "grade_id": "cell-3589d6f6028b7289",
     "locked": true,
     "schema_version": 3,
     "solution": false,
     "task": false
    }
   },
   "source": [
    "#### Question 10: Bonus\n",
    "\n",
    "What is the proportion of returning customers? Store as variable `prop_returning`."
   ]
  },
  {
   "cell_type": "code",
   "execution_count": 23,
   "metadata": {
    "deletable": false,
    "nbgrader": {
     "cell_type": "code",
     "checksum": "a7790e810581fab55b1ee90f12a4f01b",
     "grade": false,
     "grade_id": "cell-59c5307f420fe231",
     "locked": false,
     "schema_version": 3,
     "solution": true,
     "task": false
    }
   },
   "outputs": [
    {
     "data": {
      "text/plain": [
       "21241"
      ]
     },
     "execution_count": 23,
     "metadata": {},
     "output_type": "execute_result"
    }
   ],
   "source": [
    "unique_customers = df_cleaned['cust_id'].nunique()\n",
    "unique_customers"
   ]
  },
  {
   "cell_type": "code",
   "execution_count": 24,
   "metadata": {},
   "outputs": [
    {
     "data": {
      "text/plain": [
       "5471"
      ]
     },
     "execution_count": 24,
     "metadata": {},
     "output_type": "execute_result"
    }
   ],
   "source": [
    "df_cleaned.groupby('cust_id')['trans_id'].nunique().value_counts().values[1:].sum()"
   ]
  },
  {
   "cell_type": "code",
   "execution_count": 25,
   "metadata": {},
   "outputs": [],
   "source": [
    "prop_returning = df_cleaned.groupby('cust_id')['trans_id'].nunique().value_counts().values[1:].sum()/df_cleaned['cust_id'].nunique()"
   ]
  },
  {
   "cell_type": "code",
   "execution_count": 26,
   "metadata": {},
   "outputs": [
    {
     "data": {
      "text/plain": [
       "0.25756791111529587"
      ]
     },
     "execution_count": 26,
     "metadata": {},
     "output_type": "execute_result"
    }
   ],
   "source": [
    "prop_returning "
   ]
  },
  {
   "cell_type": "code",
   "execution_count": 27,
   "metadata": {
    "deletable": false,
    "editable": false,
    "nbgrader": {
     "cell_type": "code",
     "checksum": "e963efe28c40268902a7c20c6cbd5132",
     "grade": true,
     "grade_id": "cell-84d62b95c61208f4",
     "locked": true,
     "points": 0,
     "schema_version": 3,
     "solution": false,
     "task": false
    }
   },
   "outputs": [
    {
     "name": "stdout",
     "output_type": "stream",
     "text": [
      "\u001b[92mYour answer for the `prop_returning` variable looks about right!\n",
      "Note that doesn't mean it's correct though, just that your answer is at least **close** to the correct answer. It's possible your answer isn't correct, although it's close! \u001b[0m\n"
     ]
    }
   ],
   "source": [
    "# Q10 Test Cases\n",
    "check_q10()\n"
   ]
  },
  {
   "cell_type": "code",
   "execution_count": null,
   "metadata": {},
   "outputs": [],
   "source": []
  }
 ],
 "metadata": {
  "kernelspec": {
   "display_name": "Python 3",
   "language": "python",
   "name": "python3"
  },
  "language_info": {
   "codemirror_mode": {
    "name": "ipython",
    "version": 3
   },
   "file_extension": ".py",
   "mimetype": "text/x-python",
   "name": "python",
   "nbconvert_exporter": "python",
   "pygments_lexer": "ipython3",
   "version": "3.7.6"
  }
 },
 "nbformat": 4,
 "nbformat_minor": 5
}
